{
 "cells": [
  {
   "cell_type": "code",
   "execution_count": 1,
   "metadata": {},
   "outputs": [
    {
     "name": "stdout",
     "output_type": "stream",
     "text": [
      "\u001b[33mWARNING: The directory '/home/yee/.cache/pip' or its parent directory is not owned or is not writable by the current user. The cache has been disabled. Check the permissions and owner of that directory. If executing pip with sudo, you may want sudo's -H flag.\u001b[0m\n",
      "Looking in indexes: http://mirrors.aliyun.com/pypi/simple/\n",
      "Requirement already satisfied: pip in /home/yee/.pyenv/versions/3.7.0/envs/h2o_3.7.0/lib/python3.7/site-packages (20.3.3)\n",
      "\u001b[33mWARNING: The directory '/home/yee/.cache/pip' or its parent directory is not owned or is not writable by the current user. The cache has been disabled. Check the permissions and owner of that directory. If executing pip with sudo, you may want sudo's -H flag.\u001b[0m\n",
      "Looking in indexes: http://mirrors.aliyun.com/pypi/simple/\n",
      "Requirement already satisfied: requests in /home/yee/.pyenv/versions/3.7.0/envs/h2o_3.7.0/lib/python3.7/site-packages (2.23.0)\n",
      "Requirement already satisfied: certifi>=2017.4.17 in /home/yee/.pyenv/versions/3.7.0/envs/h2o_3.7.0/lib/python3.7/site-packages (from requests) (2020.4.5.1)\n",
      "Requirement already satisfied: urllib3!=1.25.0,!=1.25.1,<1.26,>=1.21.1 in /home/yee/.pyenv/versions/3.7.0/envs/h2o_3.7.0/lib/python3.7/site-packages (from requests) (1.25.9)\n",
      "Requirement already satisfied: idna<3,>=2.5 in /home/yee/.pyenv/versions/3.7.0/envs/h2o_3.7.0/lib/python3.7/site-packages (from requests) (2.9)\n",
      "Requirement already satisfied: chardet<4,>=3.0.2 in /home/yee/.pyenv/versions/3.7.0/envs/h2o_3.7.0/lib/python3.7/site-packages (from requests) (3.0.4)\n",
      "\u001b[33mWARNING: The directory '/home/yee/.cache/pip' or its parent directory is not owned or is not writable by the current user. The cache has been disabled. Check the permissions and owner of that directory. If executing pip with sudo, you may want sudo's -H flag.\u001b[0m\n",
      "Looking in indexes: http://mirrors.aliyun.com/pypi/simple/\n",
      "Requirement already satisfied: tabulate in /home/yee/.pyenv/versions/3.7.0/envs/h2o_3.7.0/lib/python3.7/site-packages (0.8.7)\n",
      "\u001b[33mWARNING: The directory '/home/yee/.cache/pip' or its parent directory is not owned or is not writable by the current user. The cache has been disabled. Check the permissions and owner of that directory. If executing pip with sudo, you may want sudo's -H flag.\u001b[0m\n",
      "Looking in indexes: http://mirrors.aliyun.com/pypi/simple/\n",
      "Requirement already satisfied: scikit-learn in /home/yee/.pyenv/versions/3.7.0/envs/h2o_3.7.0/lib/python3.7/site-packages (0.23.1)\n",
      "Requirement already satisfied: threadpoolctl>=2.0.0 in /home/yee/.pyenv/versions/3.7.0/envs/h2o_3.7.0/lib/python3.7/site-packages (from scikit-learn) (2.1.0)\n",
      "Requirement already satisfied: scipy>=0.19.1 in /home/yee/.pyenv/versions/3.7.0/envs/h2o_3.7.0/lib/python3.7/site-packages (from scikit-learn) (1.4.1)\n",
      "Requirement already satisfied: joblib>=0.11 in /home/yee/.pyenv/versions/3.7.0/envs/h2o_3.7.0/lib/python3.7/site-packages (from scikit-learn) (0.15.1)\n",
      "Requirement already satisfied: numpy>=1.13.3 in /home/yee/.pyenv/versions/3.7.0/envs/h2o_3.7.0/lib/python3.7/site-packages (from scikit-learn) (1.18.4)\n",
      "\u001b[33mWARNING: The directory '/home/yee/.cache/pip' or its parent directory is not owned or is not writable by the current user. The cache has been disabled. Check the permissions and owner of that directory. If executing pip with sudo, you may want sudo's -H flag.\u001b[0m\n",
      "Looking in indexes: http://mirrors.aliyun.com/pypi/simple/\n",
      "Looking in links: http://h2o-release.s3.amazonaws.com/h2o/latest_stable_Py.html\n",
      "Requirement already satisfied: h2o in /home/yee/.pyenv/versions/3.7.0/envs/h2o_3.7.0/lib/python3.7/site-packages (3.30.0.4)\n",
      "Requirement already satisfied: requests in /home/yee/.pyenv/versions/3.7.0/envs/h2o_3.7.0/lib/python3.7/site-packages (from h2o) (2.23.0)\n",
      "Requirement already satisfied: tabulate in /home/yee/.pyenv/versions/3.7.0/envs/h2o_3.7.0/lib/python3.7/site-packages (from h2o) (0.8.7)\n",
      "Requirement already satisfied: future in /home/yee/.pyenv/versions/3.7.0/envs/h2o_3.7.0/lib/python3.7/site-packages (from h2o) (0.18.2)\n",
      "Requirement already satisfied: colorama>=0.3.8 in /home/yee/.pyenv/versions/3.7.0/envs/h2o_3.7.0/lib/python3.7/site-packages (from h2o) (0.4.3)\n",
      "Requirement already satisfied: urllib3!=1.25.0,!=1.25.1,<1.26,>=1.21.1 in /home/yee/.pyenv/versions/3.7.0/envs/h2o_3.7.0/lib/python3.7/site-packages (from requests->h2o) (1.25.9)\n",
      "Requirement already satisfied: idna<3,>=2.5 in /home/yee/.pyenv/versions/3.7.0/envs/h2o_3.7.0/lib/python3.7/site-packages (from requests->h2o) (2.9)\n",
      "Requirement already satisfied: chardet<4,>=3.0.2 in /home/yee/.pyenv/versions/3.7.0/envs/h2o_3.7.0/lib/python3.7/site-packages (from requests->h2o) (3.0.4)\n",
      "Requirement already satisfied: certifi>=2017.4.17 in /home/yee/.pyenv/versions/3.7.0/envs/h2o_3.7.0/lib/python3.7/site-packages (from requests->h2o) (2020.4.5.1)\n"
     ]
    }
   ],
   "source": [
    "!pip install -U pip\n",
    "!pip install requests\n",
    "!pip install tabulate\n",
    "!pip install scikit-learn\n",
    "!pip install -f http://h2o-release.s3.amazonaws.com/h2o/latest_stable_Py.html --trusted-host h2o-release.s3.amazonaws.com h2o"
   ]
  },
  {
   "cell_type": "code",
   "execution_count": 2,
   "metadata": {},
   "outputs": [
    {
     "name": "stdout",
     "output_type": "stream",
     "text": [
      "Checking whether there is an H2O instance running at http://localhost:54321 . connected.\n",
      "Warning: Your H2O cluster version is too old (6 months and 21 days)! Please download and install the latest version from http://h2o.ai/download/\n"
     ]
    },
    {
     "data": {
      "text/html": [
       "<div style=\"overflow:auto\"><table style=\"width:50%\"><tr><td>H2O_cluster_uptime:</td>\n",
       "<td>5 mins 35 secs</td></tr>\n",
       "<tr><td>H2O_cluster_timezone:</td>\n",
       "<td>Asia/Shanghai</td></tr>\n",
       "<tr><td>H2O_data_parsing_timezone:</td>\n",
       "<td>UTC</td></tr>\n",
       "<tr><td>H2O_cluster_version:</td>\n",
       "<td>3.30.0.4</td></tr>\n",
       "<tr><td>H2O_cluster_version_age:</td>\n",
       "<td>6 months and 21 days !!!</td></tr>\n",
       "<tr><td>H2O_cluster_name:</td>\n",
       "<td>H2O_from_python_root_7e5cx8</td></tr>\n",
       "<tr><td>H2O_cluster_total_nodes:</td>\n",
       "<td>1</td></tr>\n",
       "<tr><td>H2O_cluster_free_memory:</td>\n",
       "<td>1.906 Gb</td></tr>\n",
       "<tr><td>H2O_cluster_total_cores:</td>\n",
       "<td>8</td></tr>\n",
       "<tr><td>H2O_cluster_allowed_cores:</td>\n",
       "<td>8</td></tr>\n",
       "<tr><td>H2O_cluster_status:</td>\n",
       "<td>locked, healthy</td></tr>\n",
       "<tr><td>H2O_connection_url:</td>\n",
       "<td>http://localhost:54321</td></tr>\n",
       "<tr><td>H2O_connection_proxy:</td>\n",
       "<td>{\"http\": null, \"https\": null}</td></tr>\n",
       "<tr><td>H2O_internal_security:</td>\n",
       "<td>False</td></tr>\n",
       "<tr><td>H2O_API_Extensions:</td>\n",
       "<td>Amazon S3, XGBoost, Algos, AutoML, Core V3, TargetEncoder, Core V4</td></tr>\n",
       "<tr><td>Python_version:</td>\n",
       "<td>3.7.0 final</td></tr></table></div>"
      ],
      "text/plain": [
       "--------------------------  ------------------------------------------------------------------\n",
       "H2O_cluster_uptime:         5 mins 35 secs\n",
       "H2O_cluster_timezone:       Asia/Shanghai\n",
       "H2O_data_parsing_timezone:  UTC\n",
       "H2O_cluster_version:        3.30.0.4\n",
       "H2O_cluster_version_age:    6 months and 21 days !!!\n",
       "H2O_cluster_name:           H2O_from_python_root_7e5cx8\n",
       "H2O_cluster_total_nodes:    1\n",
       "H2O_cluster_free_memory:    1.906 Gb\n",
       "H2O_cluster_total_cores:    8\n",
       "H2O_cluster_allowed_cores:  8\n",
       "H2O_cluster_status:         locked, healthy\n",
       "H2O_connection_url:         http://localhost:54321\n",
       "H2O_connection_proxy:       {\"http\": null, \"https\": null}\n",
       "H2O_internal_security:      False\n",
       "H2O_API_Extensions:         Amazon S3, XGBoost, Algos, AutoML, Core V3, TargetEncoder, Core V4\n",
       "Python_version:             3.7.0 final\n",
       "--------------------------  ------------------------------------------------------------------"
      ]
     },
     "metadata": {},
     "output_type": "display_data"
    }
   ],
   "source": [
    "import h2o\n",
    "from h2o.automl import H2OAutoML\n",
    "\n",
    "h2o.init()"
   ]
  }
 ],
 "metadata": {
  "kernelspec": {
   "display_name": "Python 3",
   "language": "python",
   "name": "python3"
  },
  "language_info": {
   "codemirror_mode": {
    "name": "ipython",
    "version": 3
   },
   "file_extension": ".py",
   "mimetype": "text/x-python",
   "name": "python",
   "nbconvert_exporter": "python",
   "pygments_lexer": "ipython3",
   "version": "3.7.0"
  }
 },
 "nbformat": 4,
 "nbformat_minor": 4
}
