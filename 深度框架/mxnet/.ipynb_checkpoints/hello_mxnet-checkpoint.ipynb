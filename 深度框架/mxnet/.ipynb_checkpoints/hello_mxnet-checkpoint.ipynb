{
 "cells": [
  {
   "cell_type": "code",
   "execution_count": 1,
   "metadata": {},
   "outputs": [],
   "source": [
    "#!./pre_env.sh mxnet\n",
    "#!pip config set global.index-url http://mirrors.aliyun.com/pypi/simple/\n",
    "#!pip config set install.trusted-host mirrors.aliyun.com\n",
    "#!pip install -U pip\n",
    "#!pip install mxnet-mkl\n",
    "#!pip install gluoncv\n",
    "#!pip install gluonnlp\n",
    "#!pip install autogluon"
   ]
  },
  {
   "cell_type": "markdown",
   "metadata": {},
   "source": [
    "## NDArray"
   ]
  },
  {
   "cell_type": "code",
   "execution_count": 2,
   "metadata": {},
   "outputs": [
    {
     "name": "stdout",
     "output_type": "stream",
     "text": [
      "\n",
      "[1. 2. 3.]\n",
      "<NDArray 3 @cpu(0)>\n",
      "\n",
      "[[1. 2. 3.]\n",
      " [4. 5. 6.]]\n",
      "<NDArray 2x3 @cpu(0)>\n",
      "\n",
      "[0. 0. 0. 0. 0. 0.]\n",
      "<NDArray 6 @cpu(0)>\n",
      "\n",
      "[ 0.  2.  4.  6.  8. 10.]\n",
      "<NDArray 6 @cpu(0)>\n",
      "\n",
      "[0. 3. 6. 9.]\n",
      "<NDArray 4 @cpu(0)>\n",
      "\n",
      "[[1. 0. 0. 0. 0.]\n",
      " [0. 1. 0. 0. 0.]\n",
      " [0. 0. 1. 0. 0.]\n",
      " [0. 0. 0. 1. 0.]\n",
      " [0. 0. 0. 0. 1.]]\n",
      "<NDArray 5x5 @cpu(0)>\n",
      "\n",
      "[[0. 0. 0.]\n",
      " [0. 0. 0.]]\n",
      "<NDArray 2x3 @cpu(0)>\n",
      "\n",
      "[[ 2.2122064   0.7740038   1.0434403   1.1839255   1.8917114 ]\n",
      " [-1.2347414  -1.771029   -0.45138445  0.57938355 -1.856082  ]\n",
      " [-1.9768796  -0.20801921  0.2444218  -0.03716067 -0.48774993]\n",
      " [-0.02261727  0.57461417  1.4661262   0.6862904   0.35496104]]\n",
      "<NDArray 4x5 @cpu(0)>\n"
     ]
    }
   ],
   "source": [
    "from mxnet import nd\n",
    "\n",
    "#导入/导出\n",
    "\n",
    "#创建\n",
    "o = nd.array([1,2,3]);     print(o)      # 一维数组，\n",
    "t = nd.array([(1,2,3),(4,5,6)]); print(t)# 二维数组，\n",
    "z = nd.zeros(6);           print(z)      # 一维数组，全零\n",
    "l = nd.linspace(0,10,6);   print(l)      # 一维数组，等分\n",
    "r = nd.arange(0,10,3);     print(r)      # 一维数组，步长 \n",
    "i = nd.eye(5);             print(i)      # 单位矩阵\n",
    "f = nd.full((2,3), 0);     print(f)      # 多维数组，zeros(6), reshape(2,3)\n",
    "s = nd.random.randn(4, 5); print(s)\n",
    "\n",
    "#查看属性\n",
    "#print(a.shape, b.shape, c.shape)\n",
    "\n",
    "#拷贝/排序/变形\n",
    "\n",
    "#增加/删除元素\n",
    "\n",
    "#组合/分离\n",
    "\n",
    "#索引/切片/子集\n",
    "\n",
    "#标量计算\n",
    "\n",
    "#向量计算\n",
    "\n",
    "#统计"
   ]
  }
 ],
 "metadata": {
  "kernelspec": {
   "display_name": "Python 3",
   "language": "python",
   "name": "python3"
  },
  "language_info": {
   "codemirror_mode": {
    "name": "ipython",
    "version": 3
   },
   "file_extension": ".py",
   "mimetype": "text/x-python",
   "name": "python",
   "nbconvert_exporter": "python",
   "pygments_lexer": "ipython3",
   "version": "3.7.0"
  }
 },
 "nbformat": 4,
 "nbformat_minor": 4
}
